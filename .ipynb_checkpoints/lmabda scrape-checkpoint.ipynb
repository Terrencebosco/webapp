{
 "cells": [
  {
   "cell_type": "code",
   "execution_count": 68,
   "metadata": {},
   "outputs": [],
   "source": [
    "from bs4 import BeautifulSoup\n",
    "import requests\n",
    "import pandas\n",
    "import numpy\n",
    "import time\n",
    "import random"
   ]
  },
  {
   "cell_type": "code",
   "execution_count": 157,
   "metadata": {},
   "outputs": [
    {
     "data": {
      "text/plain": [
       "<a href=\"/ds/module/rec81pljcvgboWB6U/\">\n",
       "Exploratory Data Analysis\n",
       "</a>"
      ]
     },
     "execution_count": 157,
     "metadata": {},
     "output_type": "execute_result"
    }
   ],
   "source": [
    "data = requests.get('https://learn.lambdaschool.com/ds/sprint/rec2a82u6kWqXEB45')\n",
    "soup = BeautifulSoup(data.content, 'html.parser')"
   ]
  },
  {
   "cell_type": "code",
   "execution_count": 158,
   "metadata": {},
   "outputs": [
    {
     "data": {
      "text/plain": [
       "['#content',\n",
       " '/',\n",
       " '/ds/sprint/rec2a82u6kWqXEB45',\n",
       " '/ds/module/rec81pljcvgboWB6U/',\n",
       " '/ds/module/recD0PnM64cmU06N1/',\n",
       " '/ds/module/recLMyOUPqsW4wm90/',\n",
       " '/ds/module/recK7pBbrxfDphtSd/',\n",
       " '/ds/sprint/recorynMW4uJ05ASZ',\n",
       " '/ds/module/reca7wkH2otMJwYwL/',\n",
       " '/ds/module/recSyGHdvxNJxWob7/',\n",
       " '/ds/module/reczBCaWiVZyBGCCT/',\n",
       " '/ds/module/recedjanLBpQxIc2r/',\n",
       " '/ds/sprint/recr0kuGaz6Uf4axZ',\n",
       " '/ds/module/rec6oDxWOTL1e9Ii3/',\n",
       " '/ds/module/recyR22S2HMD6bYAO/',\n",
       " '/ds/module/rec0pSWqkfdxJv6eC/',\n",
       " '/ds/module/recnLDoPD0eLGPq1z/',\n",
       " '/ds/sprint/recLBojP7nFYhz1EM',\n",
       " '/ds/module/recjedjlDNYrssyuy/',\n",
       " '/ds/module/reccszefh90LnMfnh/',\n",
       " '/ds/module/recgr46709bGkWTH4/',\n",
       " '/ds/module/recwdhMxxuyL3VOeT/',\n",
       " '/',\n",
       " '/ds/sprint/rec2a82u6kWqXEB45',\n",
       " '/ds/module/rec81pljcvgboWB6U/',\n",
       " '/ds/module/recD0PnM64cmU06N1/',\n",
       " '/ds/module/recLMyOUPqsW4wm90/',\n",
       " '/ds/module/recK7pBbrxfDphtSd/',\n",
       " '/ds/sprint/recorynMW4uJ05ASZ',\n",
       " '/ds/module/reca7wkH2otMJwYwL/',\n",
       " '/ds/module/recSyGHdvxNJxWob7/',\n",
       " '/ds/module/reczBCaWiVZyBGCCT/',\n",
       " '/ds/module/recedjanLBpQxIc2r/',\n",
       " '/ds/sprint/recr0kuGaz6Uf4axZ',\n",
       " '/ds/module/rec6oDxWOTL1e9Ii3/',\n",
       " '/ds/module/recyR22S2HMD6bYAO/',\n",
       " '/ds/module/rec0pSWqkfdxJv6eC/',\n",
       " '/ds/module/recnLDoPD0eLGPq1z/',\n",
       " '/ds/sprint/recLBojP7nFYhz1EM',\n",
       " '/ds/module/recjedjlDNYrssyuy/',\n",
       " '/ds/module/reccszefh90LnMfnh/',\n",
       " '/ds/module/recgr46709bGkWTH4/',\n",
       " '/ds/module/recwdhMxxuyL3VOeT/',\n",
       " '../module/rec81pljcvgboWB6U',\n",
       " '../module/recD0PnM64cmU06N1',\n",
       " '../module/recLMyOUPqsW4wm90',\n",
       " '../module/recK7pBbrxfDphtSd']"
      ]
     },
     "execution_count": 158,
     "metadata": {},
     "output_type": "execute_result"
    }
   ],
   "source": [
    "links = [a['href'] for a in soup.find_all('a', href=True)]\n",
    "links\n"
   ]
  },
  {
   "cell_type": "code",
   "execution_count": 6,
   "metadata": {},
   "outputs": [],
   "source": [
    "links_with_text = []\n",
    "for a in soup.find_all('a', href=True): \n",
    "    if a.text: \n",
    "        links_with_text.append(a['href'])"
   ]
  },
  {
   "cell_type": "code",
   "execution_count": 7,
   "metadata": {},
   "outputs": [],
   "source": [
    "website_url = set(links_with_text)"
   ]
  },
  {
   "cell_type": "code",
   "execution_count": 9,
   "metadata": {},
   "outputs": [],
   "source": [
    "my_list = list(website_url)"
   ]
  },
  {
   "cell_type": "code",
   "execution_count": 10,
   "metadata": {},
   "outputs": [],
   "source": [
    "my_df = pandas.DataFrame(my_list)"
   ]
  },
  {
   "cell_type": "code",
   "execution_count": 12,
   "metadata": {},
   "outputs": [],
   "source": [
    "df = my_df[my_df[0].str.contains('ds')]"
   ]
  },
  {
   "cell_type": "code",
   "execution_count": 13,
   "metadata": {},
   "outputs": [],
   "source": [
    "df1 = df[df[0].str.contains('module')]"
   ]
  },
  {
   "cell_type": "code",
   "execution_count": 14,
   "metadata": {},
   "outputs": [],
   "source": [
    "df1.reset_index(inplace=True)"
   ]
  },
  {
   "cell_type": "code",
   "execution_count": 15,
   "metadata": {},
   "outputs": [
    {
     "name": "stderr",
     "output_type": "stream",
     "text": [
      "/home/terrence/.local/share/virtualenvs/flask-vHG3g6_p/lib/python3.8/site-packages/pandas/core/frame.py:4162: SettingWithCopyWarning: \n",
      "A value is trying to be set on a copy of a slice from a DataFrame\n",
      "\n",
      "See the caveats in the documentation: https://pandas.pydata.org/pandas-docs/stable/user_guide/indexing.html#returning-a-view-versus-a-copy\n",
      "  return super().drop(\n"
     ]
    }
   ],
   "source": [
    "df1.drop(columns='index',axis=1, inplace=True)"
   ]
  },
  {
   "cell_type": "code",
   "execution_count": 16,
   "metadata": {},
   "outputs": [],
   "source": [
    "my_array = df1.to_numpy()"
   ]
  },
  {
   "cell_type": "code",
   "execution_count": 75,
   "metadata": {},
   "outputs": [],
   "source": [
    "flat_list = []\n",
    "for sublist in my_new_array:\n",
    "    for item in sublist:\n",
    "        flat_list.append(item)"
   ]
  },
  {
   "cell_type": "code",
   "execution_count": 146,
   "metadata": {},
   "outputs": [],
   "source": [
    "youtube_links = []\n",
    "for i in flat_list:\n",
    "    time.sleep(random.randint(2,3))\n",
    "    data = requests.get(f'https://learn.lambdaschool.com/archive{i}')\n",
    "    soup = BeautifulSoup(data.content, 'html.parser')\n",
    "    temp = soup.find('div',class_='post-content').li\n",
    "    if temp:\n",
    "        yt = soup.find('div',class_='post-content').li.a.get('href')\n",
    "        youtube_links.append(yt)\n",
    "    else:\n",
    "        youtube_links.append(i)"
   ]
  },
  {
   "cell_type": "code",
   "execution_count": 147,
   "metadata": {},
   "outputs": [
    {
     "data": {
      "text/plain": [
       "['https://youtu.be/IDDWtBIPvU4',\n",
       " 'https://youtu.be/xsXsHLQm5e8',\n",
       " 'https://youtu.be/isszRwnueEg',\n",
       " 'https://youtu.be/8wW-C9MxDWU',\n",
       " '/ds/module/recgr46709bGkWTH4/',\n",
       " 'https://youtu.be/Yo_TvyF4GNo',\n",
       " '/ds/module/reccszefh90LnMfnh/',\n",
       " 'https://youtu.be/51VwuOd9k1c',\n",
       " 'https://youtu.be/S2K2TsL3kG8',\n",
       " 'https://youtu.be/QWWflXmu8Vg',\n",
       " '/ds/module/recwdhMxxuyL3VOeT/',\n",
       " 'https://youtu.be/0HX0g_suhAw',\n",
       " 'https://youtu.be/I5BMO_mffYM',\n",
       " 'https://youtu.be/cdYTGn0fOgE',\n",
       " 'https://youtu.be/KuWzRwwjupM',\n",
       " 'https://youtu.be/mTrrkkBz6gI']"
      ]
     },
     "execution_count": 147,
     "metadata": {},
     "output_type": "execute_result"
    }
   ],
   "source": [
    "youtube_links"
   ]
  },
  {
   "cell_type": "code",
   "execution_count": 153,
   "metadata": {},
   "outputs": [],
   "source": [
    "del(youtube_links[8])"
   ]
  },
  {
   "cell_type": "code",
   "execution_count": 154,
   "metadata": {},
   "outputs": [
    {
     "data": {
      "text/plain": [
       "['https://youtu.be/IDDWtBIPvU4',\n",
       " 'https://youtu.be/xsXsHLQm5e8',\n",
       " 'https://youtu.be/isszRwnueEg',\n",
       " 'https://youtu.be/8wW-C9MxDWU',\n",
       " 'https://youtu.be/Yo_TvyF4GNo',\n",
       " 'https://youtu.be/51VwuOd9k1c',\n",
       " 'https://youtu.be/S2K2TsL3kG8',\n",
       " 'https://youtu.be/QWWflXmu8Vg',\n",
       " 'https://youtu.be/0HX0g_suhAw',\n",
       " 'https://youtu.be/I5BMO_mffYM',\n",
       " 'https://youtu.be/cdYTGn0fOgE',\n",
       " 'https://youtu.be/KuWzRwwjupM',\n",
       " 'https://youtu.be/mTrrkkBz6gI']"
      ]
     },
     "execution_count": 154,
     "metadata": {},
     "output_type": "execute_result"
    }
   ],
   "source": [
    "youtube_links"
   ]
  },
  {
   "cell_type": "code",
   "execution_count": 98,
   "metadata": {},
   "outputs": [
    {
     "data": {
      "text/plain": [
       "['/ds/module/recedjanLBpQxIc2r/',\n",
       " '/ds/module/recSyGHdvxNJxWob7/',\n",
       " '/ds/module/recyR22S2HMD6bYAO/',\n",
       " '/ds/module/reca7wkH2otMJwYwL/',\n",
       " '/ds/module/recgr46709bGkWTH4/',\n",
       " '/ds/module/recnLDoPD0eLGPq1z/',\n",
       " '/ds/module/reccszefh90LnMfnh/',\n",
       " '/ds/module/recjedjlDNYrssyuy/',\n",
       " '/ds/module/reczBCaWiVZyBGCCT/',\n",
       " '/ds/module/recLMyOUPqsW4wm90/',\n",
       " '/ds/module/recwdhMxxuyL3VOeT/',\n",
       " '/ds/module/rec6oDxWOTL1e9Ii3/',\n",
       " '/ds/module/recK7pBbrxfDphtSd/',\n",
       " '/ds/module/rec0pSWqkfdxJv6eC/',\n",
       " '/ds/module/rec81pljcvgboWB6U/',\n",
       " '/ds/module/recD0PnM64cmU06N1/']"
      ]
     },
     "execution_count": 98,
     "metadata": {},
     "output_type": "execute_result"
    }
   ],
   "source": [
    "flat_list"
   ]
  },
  {
   "cell_type": "code",
   "execution_count": 129,
   "metadata": {},
   "outputs": [
    {
     "data": {
      "text/plain": [
       "<div class=\"post-content\">\n",
       "<h2>Video Archive</h2>\n",
       "</div>"
      ]
     },
     "execution_count": 129,
     "metadata": {},
     "output_type": "execute_result"
    }
   ],
   "source": [
    "    data = requests.get(f'https://learn.lambdaschool.com/archive/ds/module/recgr46709bGkWTH4/')\n",
    "    soup = BeautifulSoup(data.content, 'html.parser')\n",
    "    yt = soup.find('div',class_='post-content')\n",
    "    yt"
   ]
  },
  {
   "cell_type": "code",
   "execution_count": null,
   "metadata": {},
   "outputs": [],
   "source": [
    "html body div#content-wrapper.active div.main-container.active main.content-container.flex-wrapper div.wrapper.limit-width div.flex-wrapper div.limit-width ul.list-group.list-group-flush"
   ]
  }
 ],
 "metadata": {
  "kernelspec": {
   "display_name": "Python 3",
   "language": "python",
   "name": "python3"
  },
  "language_info": {
   "codemirror_mode": {
    "name": "ipython",
    "version": 3
   },
   "file_extension": ".py",
   "mimetype": "text/x-python",
   "name": "python",
   "nbconvert_exporter": "python",
   "pygments_lexer": "ipython3",
   "version": "3.8.2"
  }
 },
 "nbformat": 4,
 "nbformat_minor": 4
}
